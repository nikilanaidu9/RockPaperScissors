{
 "cells": [
  {
   "cell_type": "code",
   "execution_count": 2,
   "metadata": {},
   "outputs": [
    {
     "name": "stdout",
     "output_type": "stream",
     "text": [
      "player1 won\n"
     ]
    }
   ],
   "source": [
    "# rock paper scissors\n",
    "\n",
    "Game=['rock','paper','scissors']\n",
    "player1='rock'\n",
    "player2='scissors'\n",
    "def RPS(player1,player2):\n",
    "    if player1==player2:\n",
    "        print('Tie')\n",
    "    elif player1==Game[1] and player2==Game[0]:\n",
    "        print('player1 won')\n",
    "    elif player1==Game[2] and player2==Game[0]:\n",
    "        print('player2 won')\n",
    "    elif player1==Game[0] and player2==Game[1]:\n",
    "        print('player1 won')\n",
    "    elif player1==Game[0] and player2==Game[2]:\n",
    "        print('player1 won')\n",
    "    elif player1==Game[1] and player2==Game[2]:\n",
    "        print('player1 won')\n",
    "    elif player1==Game[2] and player2==Game[1]:\n",
    "        print('player2 won')\n",
    "    return\n",
    "RPS('rock','scissors')\n",
    "\n",
    "\n",
    "\n",
    "\n",
    "\n",
    "\n"
   ]
  },
  {
   "cell_type": "code",
   "execution_count": null,
   "metadata": {},
   "outputs": [],
   "source": []
  }
 ],
 "metadata": {
  "kernelspec": {
   "display_name": "Python 3",
   "language": "python",
   "name": "python3"
  },
  "language_info": {
   "codemirror_mode": {
    "name": "ipython",
    "version": 3
   },
   "file_extension": ".py",
   "mimetype": "text/x-python",
   "name": "python",
   "nbconvert_exporter": "python",
   "pygments_lexer": "ipython3",
   "version": "3.7.4"
  }
 },
 "nbformat": 4,
 "nbformat_minor": 2
}
